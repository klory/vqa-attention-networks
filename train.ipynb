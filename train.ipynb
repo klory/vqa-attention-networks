{
 "cells": [
  {
   "cell_type": "code",
   "execution_count": 2,
   "metadata": {},
   "outputs": [],
   "source": [
    "%load_ext autoreload\n",
    "%autoreload 2"
   ]
  },
  {
   "cell_type": "code",
   "execution_count": 1,
   "metadata": {},
   "outputs": [],
   "source": [
    "import torch\n",
    "import torch.nn as nn\n",
    "import torch.nn.functional as F\n",
    "from torch.utils.data import TensorDataset, DataLoader\n",
    "from data_loader import load_questions_answers, load_image_features\n",
    "from tensorboardX import SummaryWriter\n",
    "import progressbar as pb\n",
    "import numpy as np\n",
    "from attention_net import Attention_net\n",
    "import copy"
   ]
  },
  {
   "cell_type": "markdown",
   "metadata": {},
   "source": [
    "# Load QA Data"
   ]
  },
  {
   "cell_type": "code",
   "execution_count": 3,
   "metadata": {},
   "outputs": [
    {
     "name": "stdout",
     "output_type": "stream",
     "text": [
      "Reading QA DATA\n",
      "train questions 412564\n",
      "val questions 199148\n",
      "answer vocab 3000\n",
      "question vocab 15881\n",
      "max question length 22\n"
     ]
    }
   ],
   "source": [
    "data_dir = 'data'\n",
    "print(\"Reading QA DATA\")\n",
    "qa_data = load_questions_answers(token_type='word', version=2, data_dir=data_dir)\n",
    "print(\"train questions\", len(qa_data['training']))\n",
    "print(\"val questions\", len(qa_data['validation']))\n",
    "print(\"answer vocab\", len(qa_data['answer_vocab']))\n",
    "print(\"question vocab\", len(qa_data['question_vocab']))\n",
    "print(\"max question length\", qa_data['max_question_length'])"
   ]
  },
  {
   "cell_type": "code",
   "execution_count": 4,
   "metadata": {
    "scrolled": true
   },
   "outputs": [
    {
     "data": {
      "text/plain": [
       "{'image_id': 458752,\n",
       " 'question': array([0., 0., 0., 0., 0., 0., 0., 0., 0., 0., 0., 0., 0., 0., 0., 1., 2.,\n",
       "        3., 4., 5., 6., 7.]),\n",
       " 'answer': 824}"
      ]
     },
     "execution_count": 4,
     "metadata": {},
     "output_type": "execute_result"
    }
   ],
   "source": [
    "qa_data['training'][0]"
   ]
  },
  {
   "cell_type": "markdown",
   "metadata": {},
   "source": [
    "# Load Image Data"
   ]
  },
  {
   "cell_type": "code",
   "execution_count": 52,
   "metadata": {},
   "outputs": [
    {
     "name": "stdout",
     "output_type": "stream",
     "text": [
      "Reading Image DATA\n"
     ]
    },
    {
     "name": "stderr",
     "output_type": "stream",
     "text": [
      "/home/fh199/miniconda3/lib/python3.6/site-packages/h5py/__init__.py:36: FutureWarning: Conversion of the second argument of issubdtype from `float` to `np.floating` is deprecated. In future, it will be treated as `np.float64 == np.dtype(float).type`.\n",
      "  from ._conv import register_converters as _register_converters\n"
     ]
    },
    {
     "name": "stdout",
     "output_type": "stream",
     "text": [
      "train image features (82723, 1024, 7, 7)\n",
      "train image_id_list (82723,)\n",
      "val image features (40481, 1024, 7, 7)\n",
      "val image_id_list (40481,)\n"
     ]
    }
   ],
   "source": [
    "print(\"Reading Image DATA\")\n",
    "train_image_features ,train_image_id_list = load_image_features(data_dir, 'train')\n",
    "print(\"train image features\", train_image_features.shape)\n",
    "print(\"train image_id_list\", train_image_id_list.shape)\n",
    "val_image_features, val_image_id_list = load_image_features(data_dir, 'val')\n",
    "print(\"val image features\", val_image_features.shape)\n",
    "print(\"val image_id_list\", val_image_id_list.shape)"
   ]
  },
  {
   "cell_type": "markdown",
   "metadata": {},
   "source": [
    "# Change Image Feature Dimension "
   ]
  },
  {
   "cell_type": "code",
   "execution_count": 53,
   "metadata": {},
   "outputs": [
    {
     "data": {
      "text/plain": [
       "torch.Size([82723, 49, 1024])"
      ]
     },
     "execution_count": 53,
     "metadata": {},
     "output_type": "execute_result"
    }
   ],
   "source": [
    "train_image_features = torch.from_numpy(train_image_features)\n",
    "train_image_features = train_image_features.permute(0, 2, 3, 1)\n",
    "train_image_features = train_image_features.view(train_image_features.size(0), -1, train_image_features.size(3))\n",
    "train_image_features.size()"
   ]
  },
  {
   "cell_type": "code",
   "execution_count": 54,
   "metadata": {},
   "outputs": [
    {
     "data": {
      "text/plain": [
       "torch.Size([40481, 49, 1024])"
      ]
     },
     "execution_count": 54,
     "metadata": {},
     "output_type": "execute_result"
    }
   ],
   "source": [
    "val_image_features = torch.from_numpy(val_image_features)\n",
    "val_image_features = val_image_features.permute(0, 2, 3, 1)\n",
    "val_image_features = val_image_features.view(val_image_features.size(0), -1, val_image_features.size(3))\n",
    "val_image_features.size()"
   ]
  },
  {
   "cell_type": "markdown",
   "metadata": {},
   "source": [
    "# Define Data Loader "
   ]
  },
  {
   "cell_type": "code",
   "execution_count": 55,
   "metadata": {},
   "outputs": [],
   "source": [
    "def sample_batch(batch_no, batch_size, features, image_id_map, qa, split):\n",
    "  si = (batch_no * batch_size)%len(qa)\n",
    "  ei = min(len(qa), si + batch_size)\n",
    "  n = ei - si\n",
    "  sentence = np.ndarray( (n, qa_data['max_question_length']), dtype=int) # [N, 22]\n",
    "  answers = np.zeros( (n, len(qa_data['answer_vocab'])), dtype=int) # [N,]\n",
    "  fc7 = torch.empty( (n,49,1024) ) # [N, 49, 1024]\n",
    "\n",
    "  count = 0\n",
    "  for i in range(si, ei):\n",
    "    sentence[count,:] = qa[i]['question'][:]\n",
    "#     answers[count, qa[i]['answer']] = 1\n",
    "    answers[count] = qa[i]['answer']\n",
    "    fc7_index = image_id_map[ qa[i]['image_id'] ]\n",
    "    fc7[count,:,:] = features[fc7_index, :, :]\n",
    "    count += 1\n",
    "  \n",
    "  return fc7, torch.from_numpy(sentence), torch.from_numpy(answers)"
   ]
  },
  {
   "cell_type": "code",
   "execution_count": 56,
   "metadata": {},
   "outputs": [],
   "source": [
    "train_image_id_map = {image_id: i for i, image_id in enumerate(train_image_id_list)}\n",
    "val_image_id_map = {image_id: i for i, image_id in enumerate(val_image_id_list)}"
   ]
  },
  {
   "cell_type": "markdown",
   "metadata": {},
   "source": [
    "# Train "
   ]
  },
  {
   "cell_type": "code",
   "execution_count": 5,
   "metadata": {},
   "outputs": [
    {
     "name": "stdout",
     "output_type": "stream",
     "text": [
      "Num parameters 21433694\n"
     ]
    }
   ],
   "source": [
    "model = Attention_net()\n",
    "criterion = torch.nn.CrossEntropyLoss()\n",
    "optimizer = torch.optim.SGD(model.parameters(), lr=1e-4, momentum=0.9)\n",
    "num_params = 0\n",
    "for param in model.parameters():\n",
    "    num_params += param.numel()\n",
    "print(\"Num parameters {}\".format(num_params))\n",
    "\n",
    "device = torch.device(\"cuda:0\" if torch.cuda.is_available() else \"cpu\")\n",
    "# if torch.cuda.device_count() > 1:\n",
    "#     print(\"Use\", torch.cuda.device_count(), \"GPUs!\")\n",
    "#     model = nn.DataParallel(model, device_ids=[0,1,2,3])\n",
    "model = model.to(device)"
   ]
  },
  {
   "cell_type": "code",
   "execution_count": 6,
   "metadata": {},
   "outputs": [
    {
     "data": {
      "text/plain": [
       "Attention_net(\n",
       "  (img_emb): Linear(in_features=1024, out_features=512, bias=True)\n",
       "  (que_emb): Embedding(15881, 512)\n",
       "  (att0): Attention_layer(\n",
       "    (att_layer): Attention_1(\n",
       "      (fc): Linear(in_features=512, out_features=1, bias=True)\n",
       "    )\n",
       "    (nonlinear_1): Nonlinear_layer(\n",
       "      (fc1): Linear(in_features=512, out_features=512, bias=True)\n",
       "      (fc2): Linear(in_features=512, out_features=512, bias=True)\n",
       "    )\n",
       "    (nonlinear_2): Nonlinear_layer(\n",
       "      (fc1): Linear(in_features=512, out_features=512, bias=True)\n",
       "      (fc2): Linear(in_features=512, out_features=512, bias=True)\n",
       "    )\n",
       "  )\n",
       "  (att1): Attention_layer(\n",
       "    (att_layer): Attention_1(\n",
       "      (fc): Linear(in_features=512, out_features=1, bias=True)\n",
       "    )\n",
       "    (nonlinear_1): Nonlinear_layer(\n",
       "      (fc1): Linear(in_features=512, out_features=512, bias=True)\n",
       "      (fc2): Linear(in_features=512, out_features=512, bias=True)\n",
       "    )\n",
       "    (nonlinear_2): Nonlinear_layer(\n",
       "      (fc1): Linear(in_features=512, out_features=512, bias=True)\n",
       "      (fc2): Linear(in_features=512, out_features=512, bias=True)\n",
       "    )\n",
       "  )\n",
       "  (att2): Attention_layer(\n",
       "    (att_layer): Attention_1(\n",
       "      (fc): Linear(in_features=512, out_features=1, bias=True)\n",
       "    )\n",
       "    (nonlinear_1): Nonlinear_layer(\n",
       "      (fc1): Linear(in_features=512, out_features=512, bias=True)\n",
       "      (fc2): Linear(in_features=512, out_features=512, bias=True)\n",
       "    )\n",
       "    (nonlinear_2): Nonlinear_layer(\n",
       "      (fc1): Linear(in_features=512, out_features=512, bias=True)\n",
       "      (fc2): Linear(in_features=512, out_features=512, bias=True)\n",
       "    )\n",
       "  )\n",
       "  (att3): Attention_layer(\n",
       "    (att_layer): Attention_1(\n",
       "      (fc): Linear(in_features=512, out_features=1, bias=True)\n",
       "    )\n",
       "    (nonlinear_1): Nonlinear_layer(\n",
       "      (fc1): Linear(in_features=512, out_features=512, bias=True)\n",
       "      (fc2): Linear(in_features=512, out_features=512, bias=True)\n",
       "    )\n",
       "    (nonlinear_2): Nonlinear_layer(\n",
       "      (fc1): Linear(in_features=512, out_features=512, bias=True)\n",
       "      (fc2): Linear(in_features=512, out_features=512, bias=True)\n",
       "    )\n",
       "  )\n",
       "  (att4): Attention_layer(\n",
       "    (att_layer): Attention_1(\n",
       "      (fc): Linear(in_features=512, out_features=1, bias=True)\n",
       "    )\n",
       "    (nonlinear_1): Nonlinear_layer(\n",
       "      (fc1): Linear(in_features=512, out_features=512, bias=True)\n",
       "      (fc2): Linear(in_features=512, out_features=512, bias=True)\n",
       "    )\n",
       "    (nonlinear_2): Nonlinear_layer(\n",
       "      (fc1): Linear(in_features=512, out_features=512, bias=True)\n",
       "      (fc2): Linear(in_features=512, out_features=512, bias=True)\n",
       "    )\n",
       "  )\n",
       "  (att5): Attention_layer(\n",
       "    (att_layer): Attention_1(\n",
       "      (fc): Linear(in_features=512, out_features=1, bias=True)\n",
       "    )\n",
       "    (nonlinear_1): Nonlinear_layer(\n",
       "      (fc1): Linear(in_features=512, out_features=512, bias=True)\n",
       "      (fc2): Linear(in_features=512, out_features=512, bias=True)\n",
       "    )\n",
       "    (nonlinear_2): Nonlinear_layer(\n",
       "      (fc1): Linear(in_features=512, out_features=512, bias=True)\n",
       "      (fc2): Linear(in_features=512, out_features=512, bias=True)\n",
       "    )\n",
       "  )\n",
       "  (fc): Linear(in_features=2156, out_features=3000, bias=True)\n",
       ")"
      ]
     },
     "execution_count": 6,
     "metadata": {},
     "output_type": "execute_result"
    }
   ],
   "source": [
    "model"
   ]
  },
  {
   "cell_type": "code",
   "execution_count": 64,
   "metadata": {},
   "outputs": [],
   "source": [
    "num_epoch = 100\n",
    "batch_size = 128\n",
    "writer = SummaryWriter()"
   ]
  },
  {
   "cell_type": "code",
   "execution_count": 65,
   "metadata": {},
   "outputs": [
    {
     "name": "stderr",
     "output_type": "stream",
     "text": [
      "\r",
      "                                                                               \r",
      "\r",
      "N/A% (0 of 3223) |                       | Elapsed Time: 0:00:00 ETA:  --:--:--"
     ]
    },
    {
     "ename": "RuntimeError",
     "evalue": "cuda runtime error (77) : an illegal memory access was encountered at /opt/conda/conda-bld/pytorch_1524584710464/work/aten/src/THC/THCCachingHostAllocator.cpp:257",
     "output_type": "error",
     "traceback": [
      "\u001b[0;31m---------------------------------------------------------------------------\u001b[0m",
      "\u001b[0;31mRuntimeError\u001b[0m                              Traceback (most recent call last)",
      "\u001b[0;32m<ipython-input-65-4818c4fc9394>\u001b[0m in \u001b[0;36m<module>\u001b[0;34m()\u001b[0m\n\u001b[1;32m     18\u001b[0m \u001b[0;31m#         print(img_features.shape, que_features.shape, answers.shape)\u001b[0m\u001b[0;34m\u001b[0m\u001b[0;34m\u001b[0m\u001b[0m\n\u001b[1;32m     19\u001b[0m \u001b[0;34m\u001b[0m\u001b[0m\n\u001b[0;32m---> 20\u001b[0;31m         \u001b[0mpred\u001b[0m\u001b[0;34m,\u001b[0m \u001b[0mque_att\u001b[0m\u001b[0;34m,\u001b[0m \u001b[0mimg_att\u001b[0m \u001b[0;34m=\u001b[0m \u001b[0mmodel\u001b[0m\u001b[0;34m(\u001b[0m\u001b[0mimg_features\u001b[0m\u001b[0;34m,\u001b[0m \u001b[0mque_features\u001b[0m\u001b[0;34m)\u001b[0m\u001b[0;34m\u001b[0m\u001b[0m\n\u001b[0m\u001b[1;32m     21\u001b[0m \u001b[0;34m\u001b[0m\u001b[0m\n\u001b[1;32m     22\u001b[0m \u001b[0;31m#         print(pred.shape)\u001b[0m\u001b[0;34m\u001b[0m\u001b[0;34m\u001b[0m\u001b[0m\n",
      "\u001b[0;32m~/miniconda3/lib/python3.6/site-packages/torch/nn/modules/module.py\u001b[0m in \u001b[0;36m__call__\u001b[0;34m(self, *input, **kwargs)\u001b[0m\n\u001b[1;32m    489\u001b[0m             \u001b[0mresult\u001b[0m \u001b[0;34m=\u001b[0m \u001b[0mself\u001b[0m\u001b[0;34m.\u001b[0m\u001b[0m_slow_forward\u001b[0m\u001b[0;34m(\u001b[0m\u001b[0;34m*\u001b[0m\u001b[0minput\u001b[0m\u001b[0;34m,\u001b[0m \u001b[0;34m**\u001b[0m\u001b[0mkwargs\u001b[0m\u001b[0;34m)\u001b[0m\u001b[0;34m\u001b[0m\u001b[0m\n\u001b[1;32m    490\u001b[0m         \u001b[0;32melse\u001b[0m\u001b[0;34m:\u001b[0m\u001b[0;34m\u001b[0m\u001b[0m\n\u001b[0;32m--> 491\u001b[0;31m             \u001b[0mresult\u001b[0m \u001b[0;34m=\u001b[0m \u001b[0mself\u001b[0m\u001b[0;34m.\u001b[0m\u001b[0mforward\u001b[0m\u001b[0;34m(\u001b[0m\u001b[0;34m*\u001b[0m\u001b[0minput\u001b[0m\u001b[0;34m,\u001b[0m \u001b[0;34m**\u001b[0m\u001b[0mkwargs\u001b[0m\u001b[0;34m)\u001b[0m\u001b[0;34m\u001b[0m\u001b[0m\n\u001b[0m\u001b[1;32m    492\u001b[0m         \u001b[0;32mfor\u001b[0m \u001b[0mhook\u001b[0m \u001b[0;32min\u001b[0m \u001b[0mself\u001b[0m\u001b[0;34m.\u001b[0m\u001b[0m_forward_hooks\u001b[0m\u001b[0;34m.\u001b[0m\u001b[0mvalues\u001b[0m\u001b[0;34m(\u001b[0m\u001b[0;34m)\u001b[0m\u001b[0;34m:\u001b[0m\u001b[0;34m\u001b[0m\u001b[0m\n\u001b[1;32m    493\u001b[0m             \u001b[0mhook_result\u001b[0m \u001b[0;34m=\u001b[0m \u001b[0mhook\u001b[0m\u001b[0;34m(\u001b[0m\u001b[0mself\u001b[0m\u001b[0;34m,\u001b[0m \u001b[0minput\u001b[0m\u001b[0;34m,\u001b[0m \u001b[0mresult\u001b[0m\u001b[0;34m)\u001b[0m\u001b[0;34m\u001b[0m\u001b[0m\n",
      "\u001b[0;32m~/miniconda3/lib/python3.6/site-packages/torch/nn/parallel/data_parallel.py\u001b[0m in \u001b[0;36mforward\u001b[0;34m(self, *inputs, **kwargs)\u001b[0m\n\u001b[1;32m    111\u001b[0m         \u001b[0;32mif\u001b[0m \u001b[0mlen\u001b[0m\u001b[0;34m(\u001b[0m\u001b[0mself\u001b[0m\u001b[0;34m.\u001b[0m\u001b[0mdevice_ids\u001b[0m\u001b[0;34m)\u001b[0m \u001b[0;34m==\u001b[0m \u001b[0;36m1\u001b[0m\u001b[0;34m:\u001b[0m\u001b[0;34m\u001b[0m\u001b[0m\n\u001b[1;32m    112\u001b[0m             \u001b[0;32mreturn\u001b[0m \u001b[0mself\u001b[0m\u001b[0;34m.\u001b[0m\u001b[0mmodule\u001b[0m\u001b[0;34m(\u001b[0m\u001b[0;34m*\u001b[0m\u001b[0minputs\u001b[0m\u001b[0;34m[\u001b[0m\u001b[0;36m0\u001b[0m\u001b[0;34m]\u001b[0m\u001b[0;34m,\u001b[0m \u001b[0;34m**\u001b[0m\u001b[0mkwargs\u001b[0m\u001b[0;34m[\u001b[0m\u001b[0;36m0\u001b[0m\u001b[0;34m]\u001b[0m\u001b[0;34m)\u001b[0m\u001b[0;34m\u001b[0m\u001b[0m\n\u001b[0;32m--> 113\u001b[0;31m         \u001b[0mreplicas\u001b[0m \u001b[0;34m=\u001b[0m \u001b[0mself\u001b[0m\u001b[0;34m.\u001b[0m\u001b[0mreplicate\u001b[0m\u001b[0;34m(\u001b[0m\u001b[0mself\u001b[0m\u001b[0;34m.\u001b[0m\u001b[0mmodule\u001b[0m\u001b[0;34m,\u001b[0m \u001b[0mself\u001b[0m\u001b[0;34m.\u001b[0m\u001b[0mdevice_ids\u001b[0m\u001b[0;34m[\u001b[0m\u001b[0;34m:\u001b[0m\u001b[0mlen\u001b[0m\u001b[0;34m(\u001b[0m\u001b[0minputs\u001b[0m\u001b[0;34m)\u001b[0m\u001b[0;34m]\u001b[0m\u001b[0;34m)\u001b[0m\u001b[0;34m\u001b[0m\u001b[0m\n\u001b[0m\u001b[1;32m    114\u001b[0m         \u001b[0moutputs\u001b[0m \u001b[0;34m=\u001b[0m \u001b[0mself\u001b[0m\u001b[0;34m.\u001b[0m\u001b[0mparallel_apply\u001b[0m\u001b[0;34m(\u001b[0m\u001b[0mreplicas\u001b[0m\u001b[0;34m,\u001b[0m \u001b[0minputs\u001b[0m\u001b[0;34m,\u001b[0m \u001b[0mkwargs\u001b[0m\u001b[0;34m)\u001b[0m\u001b[0;34m\u001b[0m\u001b[0m\n\u001b[1;32m    115\u001b[0m         \u001b[0;32mreturn\u001b[0m \u001b[0mself\u001b[0m\u001b[0;34m.\u001b[0m\u001b[0mgather\u001b[0m\u001b[0;34m(\u001b[0m\u001b[0moutputs\u001b[0m\u001b[0;34m,\u001b[0m \u001b[0mself\u001b[0m\u001b[0;34m.\u001b[0m\u001b[0moutput_device\u001b[0m\u001b[0;34m)\u001b[0m\u001b[0;34m\u001b[0m\u001b[0m\n",
      "\u001b[0;32m~/miniconda3/lib/python3.6/site-packages/torch/nn/parallel/data_parallel.py\u001b[0m in \u001b[0;36mreplicate\u001b[0;34m(self, module, device_ids)\u001b[0m\n\u001b[1;32m    116\u001b[0m \u001b[0;34m\u001b[0m\u001b[0m\n\u001b[1;32m    117\u001b[0m     \u001b[0;32mdef\u001b[0m \u001b[0mreplicate\u001b[0m\u001b[0;34m(\u001b[0m\u001b[0mself\u001b[0m\u001b[0;34m,\u001b[0m \u001b[0mmodule\u001b[0m\u001b[0;34m,\u001b[0m \u001b[0mdevice_ids\u001b[0m\u001b[0;34m)\u001b[0m\u001b[0;34m:\u001b[0m\u001b[0;34m\u001b[0m\u001b[0m\n\u001b[0;32m--> 118\u001b[0;31m         \u001b[0;32mreturn\u001b[0m \u001b[0mreplicate\u001b[0m\u001b[0;34m(\u001b[0m\u001b[0mmodule\u001b[0m\u001b[0;34m,\u001b[0m \u001b[0mdevice_ids\u001b[0m\u001b[0;34m)\u001b[0m\u001b[0;34m\u001b[0m\u001b[0m\n\u001b[0m\u001b[1;32m    119\u001b[0m \u001b[0;34m\u001b[0m\u001b[0m\n\u001b[1;32m    120\u001b[0m     \u001b[0;32mdef\u001b[0m \u001b[0mscatter\u001b[0m\u001b[0;34m(\u001b[0m\u001b[0mself\u001b[0m\u001b[0;34m,\u001b[0m \u001b[0minputs\u001b[0m\u001b[0;34m,\u001b[0m \u001b[0mkwargs\u001b[0m\u001b[0;34m,\u001b[0m \u001b[0mdevice_ids\u001b[0m\u001b[0;34m)\u001b[0m\u001b[0;34m:\u001b[0m\u001b[0;34m\u001b[0m\u001b[0m\n",
      "\u001b[0;32m~/miniconda3/lib/python3.6/site-packages/torch/nn/parallel/replicate.py\u001b[0m in \u001b[0;36mreplicate\u001b[0;34m(network, devices, detach)\u001b[0m\n\u001b[1;32m     10\u001b[0m     \u001b[0mparams\u001b[0m \u001b[0;34m=\u001b[0m \u001b[0mlist\u001b[0m\u001b[0;34m(\u001b[0m\u001b[0mnetwork\u001b[0m\u001b[0;34m.\u001b[0m\u001b[0mparameters\u001b[0m\u001b[0;34m(\u001b[0m\u001b[0;34m)\u001b[0m\u001b[0;34m)\u001b[0m\u001b[0;34m\u001b[0m\u001b[0m\n\u001b[1;32m     11\u001b[0m     \u001b[0mparam_indices\u001b[0m \u001b[0;34m=\u001b[0m \u001b[0;34m{\u001b[0m\u001b[0mparam\u001b[0m\u001b[0;34m:\u001b[0m \u001b[0midx\u001b[0m \u001b[0;32mfor\u001b[0m \u001b[0midx\u001b[0m\u001b[0;34m,\u001b[0m \u001b[0mparam\u001b[0m \u001b[0;32min\u001b[0m \u001b[0menumerate\u001b[0m\u001b[0;34m(\u001b[0m\u001b[0mparams\u001b[0m\u001b[0;34m)\u001b[0m\u001b[0;34m}\u001b[0m\u001b[0;34m\u001b[0m\u001b[0m\n\u001b[0;32m---> 12\u001b[0;31m     \u001b[0mparam_copies\u001b[0m \u001b[0;34m=\u001b[0m \u001b[0mBroadcast\u001b[0m\u001b[0;34m.\u001b[0m\u001b[0mapply\u001b[0m\u001b[0;34m(\u001b[0m\u001b[0mdevices\u001b[0m\u001b[0;34m,\u001b[0m \u001b[0;34m*\u001b[0m\u001b[0mparams\u001b[0m\u001b[0;34m)\u001b[0m\u001b[0;34m\u001b[0m\u001b[0m\n\u001b[0m\u001b[1;32m     13\u001b[0m     \u001b[0;32mif\u001b[0m \u001b[0mlen\u001b[0m\u001b[0;34m(\u001b[0m\u001b[0mparams\u001b[0m\u001b[0;34m)\u001b[0m \u001b[0;34m>\u001b[0m \u001b[0;36m0\u001b[0m\u001b[0;34m:\u001b[0m\u001b[0;34m\u001b[0m\u001b[0m\n\u001b[1;32m     14\u001b[0m         param_copies = [param_copies[i:i + len(params)]\n",
      "\u001b[0;32m~/miniconda3/lib/python3.6/site-packages/torch/nn/parallel/_functions.py\u001b[0m in \u001b[0;36mforward\u001b[0;34m(ctx, target_gpus, *inputs)\u001b[0m\n\u001b[1;32m     15\u001b[0m         \u001b[0mctx\u001b[0m\u001b[0;34m.\u001b[0m\u001b[0mnum_inputs\u001b[0m \u001b[0;34m=\u001b[0m \u001b[0mlen\u001b[0m\u001b[0;34m(\u001b[0m\u001b[0minputs\u001b[0m\u001b[0;34m)\u001b[0m\u001b[0;34m\u001b[0m\u001b[0m\n\u001b[1;32m     16\u001b[0m         \u001b[0mctx\u001b[0m\u001b[0;34m.\u001b[0m\u001b[0minput_device\u001b[0m \u001b[0;34m=\u001b[0m \u001b[0minputs\u001b[0m\u001b[0;34m[\u001b[0m\u001b[0;36m0\u001b[0m\u001b[0;34m]\u001b[0m\u001b[0;34m.\u001b[0m\u001b[0mget_device\u001b[0m\u001b[0;34m(\u001b[0m\u001b[0;34m)\u001b[0m\u001b[0;34m\u001b[0m\u001b[0m\n\u001b[0;32m---> 17\u001b[0;31m         \u001b[0moutputs\u001b[0m \u001b[0;34m=\u001b[0m \u001b[0mcomm\u001b[0m\u001b[0;34m.\u001b[0m\u001b[0mbroadcast_coalesced\u001b[0m\u001b[0;34m(\u001b[0m\u001b[0minputs\u001b[0m\u001b[0;34m,\u001b[0m \u001b[0mctx\u001b[0m\u001b[0;34m.\u001b[0m\u001b[0mtarget_gpus\u001b[0m\u001b[0;34m)\u001b[0m\u001b[0;34m\u001b[0m\u001b[0m\n\u001b[0m\u001b[1;32m     18\u001b[0m         \u001b[0mnon_differentiables\u001b[0m \u001b[0;34m=\u001b[0m \u001b[0;34m[\u001b[0m\u001b[0;34m]\u001b[0m\u001b[0;34m\u001b[0m\u001b[0m\n\u001b[1;32m     19\u001b[0m         \u001b[0;32mfor\u001b[0m \u001b[0midx\u001b[0m\u001b[0;34m,\u001b[0m \u001b[0minput_requires_grad\u001b[0m \u001b[0;32min\u001b[0m \u001b[0menumerate\u001b[0m\u001b[0;34m(\u001b[0m\u001b[0mctx\u001b[0m\u001b[0;34m.\u001b[0m\u001b[0mneeds_input_grad\u001b[0m\u001b[0;34m[\u001b[0m\u001b[0;36m1\u001b[0m\u001b[0;34m:\u001b[0m\u001b[0;34m]\u001b[0m\u001b[0;34m)\u001b[0m\u001b[0;34m:\u001b[0m\u001b[0;34m\u001b[0m\u001b[0m\n",
      "\u001b[0;32m~/miniconda3/lib/python3.6/site-packages/torch/cuda/comm.py\u001b[0m in \u001b[0;36mbroadcast_coalesced\u001b[0;34m(tensors, devices, buffer_size)\u001b[0m\n\u001b[1;32m     38\u001b[0m         \u001b[0mcorresponding\u001b[0m \u001b[0mto\u001b[0m \u001b[0mindices\u001b[0m \u001b[0;32mfrom\u001b[0m\u001b[0;31m \u001b[0m\u001b[0;31m`\u001b[0m\u001b[0;31m`\u001b[0m\u001b[0mdevices\u001b[0m\u001b[0;31m`\u001b[0m\u001b[0;31m`\u001b[0m\u001b[0;34m.\u001b[0m\u001b[0;34m\u001b[0m\u001b[0m\n\u001b[1;32m     39\u001b[0m     \"\"\"\n\u001b[0;32m---> 40\u001b[0;31m     \u001b[0;32mreturn\u001b[0m \u001b[0mtorch\u001b[0m\u001b[0;34m.\u001b[0m\u001b[0m_C\u001b[0m\u001b[0;34m.\u001b[0m\u001b[0m_broadcast_coalesced\u001b[0m\u001b[0;34m(\u001b[0m\u001b[0mtensors\u001b[0m\u001b[0;34m,\u001b[0m \u001b[0mdevices\u001b[0m\u001b[0;34m,\u001b[0m \u001b[0mbuffer_size\u001b[0m\u001b[0;34m)\u001b[0m\u001b[0;34m\u001b[0m\u001b[0m\n\u001b[0m\u001b[1;32m     41\u001b[0m \u001b[0;34m\u001b[0m\u001b[0m\n\u001b[1;32m     42\u001b[0m \u001b[0;34m\u001b[0m\u001b[0m\n",
      "\u001b[0;31mRuntimeError\u001b[0m: cuda runtime error (77) : an illegal memory access was encountered at /opt/conda/conda-bld/pytorch_1524584710464/work/aten/src/THC/THCCachingHostAllocator.cpp:257"
     ]
    }
   ],
   "source": [
    "best_model_wts = copy.deepcopy(model.state_dict())\n",
    "for epoch in range(num_epoch):\n",
    "    pbar = pb.ProgressBar()\n",
    "    model.train()\n",
    "    loss_value = 0.0\n",
    "    correct = 0.0\n",
    "\n",
    "    # Train\n",
    "    train_qa_data = qa_data['training']\n",
    "    for j in pbar(range(len(train_qa_data) // batch_size)):\n",
    "        img_features, que_features, answers = sample_batch(j, batch_size, \\\n",
    "                                                           train_image_features, train_image_id_map, \\\n",
    "                                                           train_qa_data, 'train')\n",
    "        \n",
    "        img_features, que_features, answers = torch.randn(128, 49, 1024),\\\n",
    "        torch.randint(100, size=(128, 22), dtype=torch.long), torch.randint(100, size=(128,), dtype=torch.long)\n",
    "\n",
    "        img_features = img_features.to(device)\n",
    "        que_features = que_features.to(device)\n",
    "        answers = answers.to(device)\n",
    "#         print(img_features.shape, que_features.shape, answers.shape)\n",
    "        \n",
    "        pred, que_att, img_att = model(img_features, que_features)\n",
    "        \n",
    "#         print(pred.shape)\n",
    "        loss = criterion(pred, answers)\n",
    "        optimizer.zero_grad()\n",
    "        loss.backward()\n",
    "        optimizer.step()\n",
    "\n",
    "        loss_value += loss.data[0]\n",
    "        pred = pred.data.max(1)[1] # get the index of the max log-probability\n",
    "        correct += pred.eq(answers.data).cpu().sum()\n",
    "        \n",
    "    print(\"Train epoch {}, loss {}, acc {}\".format(epoch,\n",
    "            loss_value / (len(train_qa_data) // batch_size),\n",
    "            correct / (len(train_qa_data) // batch_size * batch_size)))\n",
    "\n",
    "#     if epoch > 20 and epoch % 10 == 0:\n",
    "#         for param_group in early_optimizer.param_groups:\n",
    "#             param_group['lr'] *= 0.5\n",
    "    train_epoch_loss = loss_value / (len(train_qa_data) // batch_size)\n",
    "    model.eval()\n",
    "\n",
    "#     for module in model.modules():\n",
    "#         if module.__class__.__name__.find(\"BatchNorm\") > -1:\n",
    "#             module.train()\n",
    "#             # BatchNorm for some reasons is not stable in eval\n",
    "\n",
    "    loss_value = 0.0\n",
    "    correct = 0.0\n",
    "    pbar = pb.ProgressBar()\n",
    "\n",
    "    # Evaluate\n",
    "    count = 0\n",
    "    prev_val_epoch_loss = 200.0\n",
    "    val_qa_data = qa_data['validation']\n",
    "    for j in pbar(range(len(val_qa_data) // batch_size)):\n",
    "        img_features, que_features, answers = sample_batch(j, batch_size, \\\n",
    "                                                           val_image_features, val_image_id_map, \\\n",
    "                                                           val_qa_data, 'val')\n",
    "        \n",
    "        img_features = img_features.to(device)\n",
    "        que_features = que_features.to(device)\n",
    "        answers = answers.to(device)\n",
    "        \n",
    "        pred, que_att, img_att = model(img_features, que_features)\n",
    "\n",
    "        loss = criterion(pred, answers)\n",
    "        \n",
    "        loss_value += loss.data[0]\n",
    "        pred = pred.data.max(1)[1] # get the index of the max log-probability\n",
    "        correct += pred.eq(answer.data).cpu().sum()\n",
    "\n",
    "    print(\"Test epoch {}, loss {}, acc {}\".format(epoch,\n",
    "                    loss_value / (len(val_qa_data) /batch_size),\n",
    "                    correct / (len(val_qa_data) // batch_size * batch_size)))\n",
    "    val_epoch_loss = loss_value / (len(train_qa_data) // batch_size)\n",
    "    \n",
    "    if val_epoch_loss < prev_val_epoch_loss:\n",
    "        prev_val_epoch_loss = val_epoch_loss\n",
    "        best_model_wts = copy.deepcopy(model.state_dict())\n",
    "        count = 0\n",
    "    else:\n",
    "        count += 1\n",
    "        if count >= 5:\n",
    "            break\n",
    "    writer.add_scalars('att1_hard', {'train_loss': train_epoch_loss, 'val_loss': val_epoch_loss}, epoch)\n",
    "    \n",
    "# load best model weights\n",
    "model.load_state_dict(best_model_wts)\n",
    "torch.save(model.state_dict(), './att1_hard.pth')"
   ]
  }
 ],
 "metadata": {
  "kernelspec": {
   "display_name": "Python 3",
   "language": "python",
   "name": "python3"
  },
  "language_info": {
   "codemirror_mode": {
    "name": "ipython",
    "version": 3
   },
   "file_extension": ".py",
   "mimetype": "text/x-python",
   "name": "python",
   "nbconvert_exporter": "python",
   "pygments_lexer": "ipython3",
   "version": "3.6.3"
  }
 },
 "nbformat": 4,
 "nbformat_minor": 2
}
