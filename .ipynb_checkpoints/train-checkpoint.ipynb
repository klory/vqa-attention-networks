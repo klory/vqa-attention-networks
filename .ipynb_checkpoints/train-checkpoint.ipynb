{
 "cells": [
  {
   "cell_type": "code",
   "execution_count": 17,
   "metadata": {},
   "outputs": [],
   "source": [
    "import torch\n",
    "import torch.nn as nn\n",
    "import torch.nn.functional as F\n",
    "from torch.utils.data import TensorDataset, DataLoader\n",
    "from attention_net import Attention_net \n",
    "from data_loader import load_questions_answers, load_image_features\n",
    "from tensorboardX import SummaryWriter\n",
    "import progressbar as pb"
   ]
  },
  {
   "cell_type": "markdown",
   "metadata": {},
   "source": [
    "# Load QA Data"
   ]
  },
  {
   "cell_type": "code",
   "execution_count": 5,
   "metadata": {},
   "outputs": [
    {
     "name": "stdout",
     "output_type": "stream",
     "text": [
      "Reading QA DATA\n",
      "train questions 412564\n",
      "val questions 199148\n",
      "answer vocab 3000\n",
      "question vocab 15881\n",
      "max question length 22\n"
     ]
    }
   ],
   "source": [
    "data_dir = 'data'\n",
    "print(\"Reading QA DATA\")\n",
    "qa_data = load_questions_answers(token_type='word', version=2, data_dir=data_dir)\n",
    "print(\"train questions\", len(qa_data['training']))\n",
    "print(\"val questions\", len(qa_data['validation']))\n",
    "print(\"answer vocab\", len(qa_data['answer_vocab']))\n",
    "print(\"question vocab\", len(qa_data['question_vocab']))\n",
    "print(\"max question length\", qa_data['max_question_length'])"
   ]
  },
  {
   "cell_type": "code",
   "execution_count": 6,
   "metadata": {
    "scrolled": true
   },
   "outputs": [
    {
     "data": {
      "text/plain": [
       "{'image_id': 458752,\n",
       " 'question': array([0., 0., 0., 0., 0., 0., 0., 0., 0., 0., 0., 0., 0., 0., 0., 1., 2.,\n",
       "        3., 4., 5., 6., 7.]),\n",
       " 'answer': 824}"
      ]
     },
     "execution_count": 6,
     "metadata": {},
     "output_type": "execute_result"
    }
   ],
   "source": [
    "qa_data['training'][0]"
   ]
  },
  {
   "cell_type": "markdown",
   "metadata": {},
   "source": [
    "# Load Image Data"
   ]
  },
  {
   "cell_type": "code",
   "execution_count": 7,
   "metadata": {},
   "outputs": [
    {
     "name": "stdout",
     "output_type": "stream",
     "text": [
      "Readings Image DATA\n"
     ]
    },
    {
     "name": "stderr",
     "output_type": "stream",
     "text": [
      "/home/fh199/miniconda3/lib/python3.6/site-packages/h5py/__init__.py:36: FutureWarning: Conversion of the second argument of issubdtype from `float` to `np.floating` is deprecated. In future, it will be treated as `np.float64 == np.dtype(float).type`.\n",
      "  from ._conv import register_converters as _register_converters\n"
     ]
    },
    {
     "name": "stdout",
     "output_type": "stream",
     "text": [
      "train image features (82723, 1024, 7, 7)\n",
      "train image_id_list (82723,)\n",
      "val image features (40481, 1024, 7, 7)\n",
      "val image_id_list (40481,)\n"
     ]
    }
   ],
   "source": [
    "print(\"Reading Image DATA\")\n",
    "train_image_features ,train_image_id_list = load_image_features(data_dir, 'train')\n",
    "print(\"train image features\", train_image_features.shape)\n",
    "print(\"train image_id_list\", train_image_id_list.shape)\n",
    "val_image_features, val_image_id_list = load_image_features(data_dir, 'val')\n",
    "print(\"val image features\", val_image_features.shape)\n",
    "print(\"val image_id_list\", val_image_id_list.shape)"
   ]
  },
  {
   "cell_type": "markdown",
   "metadata": {},
   "source": [
    "# Change Image Feature Dimension "
   ]
  },
  {
   "cell_type": "code",
   "execution_count": 8,
   "metadata": {},
   "outputs": [
    {
     "data": {
      "text/plain": [
       "torch.Size([40481, 49, 1024])"
      ]
     },
     "execution_count": 8,
     "metadata": {},
     "output_type": "execute_result"
    }
   ],
   "source": [
    "val_image_features = torch.from_numpy(val_image_features)\n",
    "val_image_features = val_image_features.permute(0, 2, 3, 1)\n",
    "val_image_features = val_image_features.view(val_image_features.size(0), -1, val_image_features.size(3))\n",
    "val_image_features.size()"
   ]
  },
  {
   "cell_type": "code",
   "execution_count": 10,
   "metadata": {
    "collapsed": true
   },
   "outputs": [
    {
     "ename": "TypeError",
     "evalue": "expected np.ndarray (got Tensor)",
     "output_type": "error",
     "traceback": [
      "\u001b[0;31m---------------------------------------------------------------------------\u001b[0m",
      "\u001b[0;31mTypeError\u001b[0m                                 Traceback (most recent call last)",
      "\u001b[0;32m<ipython-input-10-6d63146cd146>\u001b[0m in \u001b[0;36m<module>\u001b[0;34m()\u001b[0m\n\u001b[0;32m----> 1\u001b[0;31m \u001b[0mtrain_image_features\u001b[0m \u001b[0;34m=\u001b[0m \u001b[0mtorch\u001b[0m\u001b[0;34m.\u001b[0m\u001b[0mfrom_numpy\u001b[0m\u001b[0;34m(\u001b[0m\u001b[0mtrain_image_features\u001b[0m\u001b[0;34m)\u001b[0m\u001b[0;34m\u001b[0m\u001b[0m\n\u001b[0m\u001b[1;32m      2\u001b[0m \u001b[0mtrain_image_features\u001b[0m \u001b[0;34m=\u001b[0m \u001b[0mtrain_image_features\u001b[0m\u001b[0;34m.\u001b[0m\u001b[0mpermute\u001b[0m\u001b[0;34m(\u001b[0m\u001b[0;36m0\u001b[0m\u001b[0;34m,\u001b[0m \u001b[0;36m2\u001b[0m\u001b[0;34m,\u001b[0m \u001b[0;36m3\u001b[0m\u001b[0;34m,\u001b[0m \u001b[0;36m1\u001b[0m\u001b[0;34m)\u001b[0m\u001b[0;34m\u001b[0m\u001b[0m\n\u001b[1;32m      3\u001b[0m \u001b[0mtrain_image_features\u001b[0m \u001b[0;34m=\u001b[0m \u001b[0mtrain_image_features\u001b[0m\u001b[0;34m.\u001b[0m\u001b[0mview\u001b[0m\u001b[0;34m(\u001b[0m\u001b[0mtrain_image_features\u001b[0m\u001b[0;34m.\u001b[0m\u001b[0msize\u001b[0m\u001b[0;34m(\u001b[0m\u001b[0;36m0\u001b[0m\u001b[0;34m)\u001b[0m\u001b[0;34m,\u001b[0m \u001b[0;34m-\u001b[0m\u001b[0;36m1\u001b[0m\u001b[0;34m,\u001b[0m \u001b[0mtrain_image_features\u001b[0m\u001b[0;34m.\u001b[0m\u001b[0msize\u001b[0m\u001b[0;34m(\u001b[0m\u001b[0;36m3\u001b[0m\u001b[0;34m)\u001b[0m\u001b[0;34m)\u001b[0m\u001b[0;34m\u001b[0m\u001b[0m\n\u001b[1;32m      4\u001b[0m \u001b[0mtrain_image_features\u001b[0m\u001b[0;34m.\u001b[0m\u001b[0msize\u001b[0m\u001b[0;34m(\u001b[0m\u001b[0;34m)\u001b[0m\u001b[0;34m\u001b[0m\u001b[0m\n",
      "\u001b[0;31mTypeError\u001b[0m: expected np.ndarray (got Tensor)"
     ]
    }
   ],
   "source": [
    "train_image_features = torch.from_numpy(train_image_features)\n",
    "train_image_features = train_image_features.permute(0, 2, 3, 1)\n",
    "train_image_features = train_image_features.view(train_image_features.size(0), -1, train_image_features.size(3))\n",
    "train_image_features.size()"
   ]
  },
  {
   "cell_type": "code",
   "execution_count": 11,
   "metadata": {
    "scrolled": true
   },
   "outputs": [
    {
     "data": {
      "text/plain": [
       "torch.Size([82723, 49, 1024])"
      ]
     },
     "execution_count": 11,
     "metadata": {},
     "output_type": "execute_result"
    }
   ],
   "source": [
    "train_image_features = train_image_features.view(train_image_features.size(0), -1, train_image_features.size(3))\n",
    "train_image_features.size()"
   ]
  },
  {
   "cell_type": "markdown",
   "metadata": {},
   "source": [
    "# Define Data Loader "
   ]
  },
  {
   "cell_type": "code",
   "execution_count": 16,
   "metadata": {},
   "outputs": [],
   "source": [
    "def sample_batch(batch_no, batch_size, features, image_id_map, qa_data, split):\n",
    "  qa = None\n",
    "  if split == 'train':\n",
    "    qa = qa_data['training']\n",
    "  else:\n",
    "    qa = qa_data['validation']\n",
    "\n",
    "  si = (batch_no * batch_size)%len(qa)\n",
    "  ei = min(len(qa), si + batch_size)\n",
    "  n = ei - si\n",
    "  sentence = np.ndarray( (n, qa_data['max_question_length']), dtype = 'int32') # [N, 22]\n",
    "  answer = np.zeros( (n, len(qa_data['answer_vocab']))) # [N, 3000]\n",
    "  fc7 = np.ndarray( (n,49,1024) ) # [N, 49, 1024]\n",
    "\n",
    "  count = 0\n",
    "  for i in range(si, ei):\n",
    "    sentence[count,:] = qa[i]['question'][:]\n",
    "    answer[count, qa[i]['answer']] = 1.0\n",
    "    fc7_index = image_id_map[ qa[i]['image_id'] ]\n",
    "    fc7[count,:,:] = features[fc7_index, :, :]\n",
    "    count += 1\n",
    "  \n",
    "  return fc7, sentence, answers"
   ]
  },
  {
   "cell_type": "code",
   "execution_count": 13,
   "metadata": {},
   "outputs": [],
   "source": [
    "train_image_id_map = {image_id: i for i, image_id in enumerate(train_image_id_list)}\n",
    "val_image_id_map = {image_id: i for i, image_id in enumerate(val_image_id_list)}"
   ]
  },
  {
   "cell_type": "markdown",
   "metadata": {},
   "source": [
    "# Train "
   ]
  },
  {
   "cell_type": "code",
   "execution_count": 14,
   "metadata": {},
   "outputs": [
    {
     "name": "stdout",
     "output_type": "stream",
     "text": [
      "Num parameters 21433694\n"
     ]
    }
   ],
   "source": [
    "model = Attention_net()\n",
    "criterion = torch.nn.CrossEntropyLoss()\n",
    "optimizer = torch.optim.SGD(model.parameters(), lr=1e-4, momentum=0.9)\n",
    "num_params = 0\n",
    "for param in model.parameters():\n",
    "    num_params += param.numel()\n",
    "print(\"Num parameters {}\".format(num_params))"
   ]
  },
  {
   "cell_type": "code",
   "execution_count": 15,
   "metadata": {},
   "outputs": [],
   "source": [
    "num_epoch = 16\n",
    "batch_size = 128\n",
    "writer = SummaryWriter()"
   ]
  },
  {
   "cell_type": "code",
   "execution_count": null,
   "metadata": {},
   "outputs": [],
   "source": [
    "for epoch in range(args.num_epoch):\n",
    "    pbar = pb.ProgressBar()\n",
    "    model.train()\n",
    "    loss_value = 0.0\n",
    "    correct = 0.0\n",
    "\n",
    "    # Train\n",
    "    for j in pbar(range(len(train_data) // batch_size)):\n",
    "        img_features, que_features, answers = sample_batch(batch_no, batch_size, features, image_id_map, qa_data, split)\n",
    "\n",
    "        outputs, que_att, img_att = model(img_features, que_features)\n",
    "\n",
    "        loss = criterion(outputs, answers)\n",
    "        optimizer.zero_grad()\n",
    "        loss.backward()\n",
    "        optimizer.step()\n",
    "\n",
    "        loss_value += loss.data[0]\n",
    "        pred = outputs.data.max(1)[1] # get the index of the max log-probability\n",
    "        correct += pred.eq(targets.data).cpu().sum()\n",
    "        \n",
    "    print(\"Train epoch {}, loss {}, acc {}\".format(epoch,\n",
    "            loss_value / (len(train_data) // args.batch_size),\n",
    "            correct / (len(train_data) // args.batch_size * args.batch_size)))\n",
    "\n",
    "#     if epoch > 20 and epoch % 10 == 0:\n",
    "#         for param_group in early_optimizer.param_groups:\n",
    "#             param_group['lr'] *= 0.5\n",
    "\n",
    "    model.eval()\n",
    "\n",
    "#     for module in model.modules():\n",
    "#         if module.__class__.__name__.find(\"BatchNorm\") > -1:\n",
    "#             module.train()\n",
    "#             # BatchNorm for some reasons is not stable in eval\n",
    "\n",
    "    loss_value = 0.0\n",
    "    correct = 0.0\n",
    "    pbar = pb.ProgressBar()\n",
    "\n",
    "    # Evaluate\n",
    "    for j in pbar(range(len(test_data) // args.batch_size)):\n",
    "        inputs, targets, mask, laplacian, Di, DiA = sample_batch(test_data, is_training=False)\n",
    "\n",
    "        if args.model in [\"lap\", \"avg\", \"mlp\"]:\n",
    "            outputs = model(inputs, laplacian, mask)\n",
    "        else:\n",
    "            outputs = model(inputs, Di, DiA, mask)\n",
    "\n",
    "        loss = F.nll_loss(outputs, targets)\n",
    "\n",
    "        loss.backward()\n",
    "\n",
    "        loss_value += loss.data[0]\n",
    "        pred = outputs.data.max(1)[1] # get the index of the max log-probability\n",
    "        correct += pred.eq(targets.data).cpu().sum()\n",
    "\n",
    "    print(\"Test epoch {}, loss {}, acc {}\".format(epoch,\n",
    "                    loss_value / (len(test_data) /args.batch_size),\n",
    "                    correct / (len(test_data) // args.batch_size * args.batch_size)))"
   ]
  }
 ],
 "metadata": {
  "kernelspec": {
   "display_name": "Python 3",
   "language": "python",
   "name": "python3"
  },
  "language_info": {
   "codemirror_mode": {
    "name": "ipython",
    "version": 3
   },
   "file_extension": ".py",
   "mimetype": "text/x-python",
   "name": "python",
   "nbconvert_exporter": "python",
   "pygments_lexer": "ipython3",
   "version": "3.6.3"
  }
 },
 "nbformat": 4,
 "nbformat_minor": 2
}
